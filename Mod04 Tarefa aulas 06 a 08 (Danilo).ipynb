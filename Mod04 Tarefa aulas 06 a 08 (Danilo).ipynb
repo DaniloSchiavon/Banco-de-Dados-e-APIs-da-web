{
 "cells": [
  {
   "cell_type": "markdown",
   "metadata": {},
   "source": [
    "# Tarefa 03\n",
    "\n",
    "- Leia os enunciados com atenção\n",
    "- Saiba que pode haver mais de uma resposta correta\n",
    "- Insira novas células de código sempre que achar necessário\n",
    "- Em caso de dúvidas, procure os Tutores\n",
    "- Divirta-se :)"
   ]
  },
  {
   "cell_type": "code",
   "execution_count": 39,
   "metadata": {},
   "outputs": [
    {
     "name": "stdout",
     "output_type": "stream",
     "text": [
      "Dados carregados com sucesso!\n",
      "Colunas do DataFrame: ['id_pleito', 'tipo_interessado', 'interessado', 'cod_ibge', 'uf', 'num_pvl', 'status', 'num_processo', 'data_protocolo', 'tipo_operacao', 'finalidade', 'tipo_credor', 'credor', 'moeda', 'valor', 'pvl_assoc_divida', 'pvl_contradado_credor', 'data_status']\n"
     ]
    }
   ],
   "source": [
    "import pandas as pd\n",
    "import requests\n",
    "\n",
    "url = 'https://apidatalake.tesouro.gov.br/ords/sadipem/tt/pvl'\n",
    "\n",
    "# Requisição à API\n",
    "response = requests.get(url)\n",
    "\n",
    "# Verificar se a requisição foi bem sucedida e puxar as colunas da base de dados\n",
    "if response.status_code == 200:\n",
    "    data = response.json()\n",
    "    # Converter os dados em DataFrame\n",
    "    df = pd.DataFrame(data['items'])\n",
    "    print(\"Dados carregados com sucesso!\")\n",
    "    # Exibir as colunas do DataFrame\n",
    "    print(\"Colunas do DataFrame:\", df.columns.tolist())\n",
    "else:\n",
    "    print(f\"Erro ao carregar os dados: {response.status_code}\")"
   ]
  },
  {
   "cell_type": "markdown",
   "metadata": {},
   "source": [
    "####  1) Lendo de APIs\n",
    "Vimos em aula como carregar dados públicos do governo através de um API (*Application Programming Interface*). No exemplo de aula, baixamos os dados de pedidos de verificação de limites (PVL) realizados por estados, e selecionamos apenas aqueles referentes ao estado de São Paulo.\n",
    "\n",
    "1. Repita os mesmos passos feitos em aula, mas selecione os PVLs realizados por municípios no estado do Rio de Janeiro.\n",
    "2. Quais são os três *status* das solicitações mais frequentes na base? Quais são suas frequências?\n",
    "3. Construa uma nova variável que contenha o ano do **status**. Observe que ```data_status``` vem como tipo *object* no **DataFrame**. Dica: você pode usar o método ```.str``` para transformar o tipo da variável em string, em seguida um método como [**slice()**](https://pandas.pydata.org/docs/reference/api/pandas.Series.str.slice.html) ou [**split()**](https://pandas.pydata.org/pandas-docs/stable/reference/api/pandas.Series.str.split.html).\n",
    "4. Indique a frequência de cada ano do campo construído no item (3)."
   ]
  },
  {
   "cell_type": "code",
   "execution_count": 41,
   "metadata": {},
   "outputs": [
    {
     "name": "stdout",
     "output_type": "stream",
     "text": [
      "     id_pleito tipo_interessado          interessado  cod_ibge  uf  \\\n",
      "66       21870        Município       Rio de Janeiro   3304557  RJ   \n",
      "92       63831        Município             Mesquita   3302858  RJ   \n",
      "116      68563        Município          Nova Iguaçu   3303500  RJ   \n",
      "178       9297        Município          Nova Iguaçu   3303500  RJ   \n",
      "267      66228        Município  São Pedro da Aldeia   3305208  RJ   \n",
      "\n",
      "                  num_pvl                           status  \\\n",
      "66   00000.000000/2028-07                         Deferido   \n",
      "92   PVL02.000044/2023-14                         Deferido   \n",
      "116  PVL02.000551/2024-39  Em retificação pelo interessado   \n",
      "178                  None                     Regularizado   \n",
      "267  PVL02.003177/2023-42                Deferido (PVL-IF)   \n",
      "\n",
      "             num_processo        data_protocolo  \\\n",
      "66   17944.000312/2016-31  2016-12-21T02:00:00Z   \n",
      "92   17944.101173/2023-91  2023-03-30T14:02:21Z   \n",
      "116  17944.002171/2024-00  2024-05-28T20:07:11Z   \n",
      "178  17944.000949/2007-37  2007-07-25T03:00:00Z   \n",
      "267                  None                  None   \n",
      "\n",
      "                                         tipo_operacao  \\\n",
      "66                         Operação contratual interna   \n",
      "92                         Operação contratual interna   \n",
      "116  Operação contratual interna (com garantia da U...   \n",
      "178                        Operação contratual interna   \n",
      "267                        Operação contratual interna   \n",
      "\n",
      "                                     finalidade  \\\n",
      "66                                        PNAFM   \n",
      "92                               Infraestrutura   \n",
      "116                              Infraestrutura   \n",
      "178  Regularização de Dívida - Energia Elétrica   \n",
      "267                              Infraestrutura   \n",
      "\n",
      "                         tipo_credor                                credor  \\\n",
      "66   Instituição Financeira Nacional               Caixa Econômica Federal   \n",
      "92   Instituição Financeira Nacional               Caixa Econômica Federal   \n",
      "116  Instituição Financeira Nacional               Caixa Econômica Federal   \n",
      "178              Empresa Não Estatal  Light - Serviços de Eletricidade S/A   \n",
      "267  Instituição Financeira Nacional                   Banco do Brasil S/A   \n",
      "\n",
      "    moeda         valor  pvl_assoc_divida  pvl_contradado_credor data_status  \n",
      "66   Real  4.900000e+07                 1                      0  28/12/2016  \n",
      "92   Real  3.000000e+07                 0                      0  31/03/2023  \n",
      "116  Real  1.600000e+08                 0                      0  14/06/2024  \n",
      "178  Real  2.315218e+06                 1                      0  02/08/2007  \n",
      "267  Real  5.500000e+06                 0                      1  12/09/2023  \n"
     ]
    }
   ],
   "source": [
    "# 1) Seu código aqui\n",
    "\n",
    "# Filtrar os PVLs realizados por municípios no estado do Rio de Janeiro\n",
    "df_rj = df[df['uf'] == 'RJ']\n",
    "print(df_rj.head())"
   ]
  },
  {
   "cell_type": "code",
   "execution_count": 45,
   "metadata": {},
   "outputs": [
    {
     "name": "stdout",
     "output_type": "stream",
     "text": [
      "Os três status mais frequentes são:\n",
      "status\n",
      "Deferido                                                 26\n",
      "Arquivado                                                11\n",
      "Encaminhado à PGFN com manifestação técnica favorável    11\n",
      "Name: count, dtype: int64\n"
     ]
    }
   ],
   "source": [
    "# 2) Seu código aqui\n",
    "status_frequencia = df_rj['status'].value_counts()\n",
    "\n",
    "# Obter os três status mais frequentes\n",
    "top_3_status = status_frequencia.head(3)\n",
    "print(\"Os três status mais frequentes são:\")\n",
    "print(top_3_status)"
   ]
  },
  {
   "cell_type": "code",
   "execution_count": 109,
   "metadata": {},
   "outputs": [
    {
     "name": "stdout",
     "output_type": "stream",
     "text": [
      "66    2016-12-28\n",
      "92    2023-03-31\n",
      "116   2024-06-14\n",
      "178   2007-08-02\n",
      "267   2023-09-12\n",
      "Name: data_status, dtype: datetime64[ns]\n",
      "    data_status  ano_status\n",
      "66   2016-12-28        2016\n",
      "92   2023-03-31        2023\n",
      "116  2024-06-14        2024\n",
      "178  2007-08-02        2007\n",
      "267  2023-09-12        2023\n"
     ]
    },
    {
     "name": "stderr",
     "output_type": "stream",
     "text": [
      "C:\\Users\\suporte\\AppData\\Local\\Temp\\ipykernel_7452\\3615261995.py:6: SettingWithCopyWarning: \n",
      "A value is trying to be set on a copy of a slice from a DataFrame.\n",
      "Try using .loc[row_indexer,col_indexer] = value instead\n",
      "\n",
      "See the caveats in the documentation: https://pandas.pydata.org/pandas-docs/stable/user_guide/indexing.html#returning-a-view-versus-a-copy\n",
      "  df_rj['data_status'] = pd.to_datetime(df_rj['data_status'], format='%d/%m/%Y', errors='coerce')\n"
     ]
    }
   ],
   "source": [
    "# 3) Seu código aqui\n",
    "# Verificar o formato da coluna 'data_status'\n",
    "print(df_rj['data_status'].head())\n",
    "\n",
    "# Convertendo a coluna 'data_status' para datetime\n",
    "df_rj['data_status'] = pd.to_datetime(df_rj['data_status'], format='%d/%m/%Y', errors='coerce')\n",
    "\n",
    "# Extrair o ano da coluna 'data_status'\n",
    "df_rj.loc[:, 'ano_status'] = df_rj['data_status'].dt.year\n",
    "print(df_rj[['data_status', 'ano_status']].head())"
   ]
  },
  {
   "cell_type": "code",
   "execution_count": 53,
   "metadata": {},
   "outputs": [
    {
     "name": "stdout",
     "output_type": "stream",
     "text": [
      "Frequência de cada ano no campo 'ano_status':\n",
      "ano_status\n",
      "2007    8\n",
      "2008    8\n",
      "2014    7\n",
      "2023    6\n",
      "2011    5\n",
      "2012    5\n",
      "2009    4\n",
      "2019    3\n",
      "2016    2\n",
      "2010    2\n",
      "2017    2\n",
      "2022    2\n",
      "2015    2\n",
      "2006    1\n",
      "2003    1\n",
      "2024    1\n",
      "2004    1\n",
      "2002    1\n",
      "2013    1\n",
      "Name: count, dtype: int64\n"
     ]
    }
   ],
   "source": [
    "# Contar a frequência de cada ano do campo 'ano_status'\n",
    "ano_frequencia = df_rj['ano_status'].value_counts()\n",
    "print(\"Frequência de cada ano no campo 'ano_status':\")\n",
    "print(ano_frequencia)"
   ]
  },
  {
   "cell_type": "markdown",
   "metadata": {},
   "source": [
    "####  2) Melhorando a interação com o API\n",
    "Observe dois URLs de consultas diferentes, por exemplo o URL utilizado em aula, e o URL feito no exercício anterior. Compare-os e observe as diferenças.\n",
    "\n",
    "1. Faça uma função em Python que recebe como argumento o UF da consulta e o tipo de interessado (```'Estado'```ou ```Município```), e que devolve os dados da consulta no formato *DataFrame*.\n",
    "2. Quantas solicitações para o Estado podem ser consultadas para Minas Gerais com *status* em 'Arquivado por decurso de prazo' estão registradas?\n",
    "3. Qual é o município da Bahia com mais solicitações deferidas?\n",
    "4. Salve um arquivo .csv com os dados de solicitações da Bahia, com interessado = 'Estado'"
   ]
  },
  {
   "cell_type": "markdown",
   "metadata": {},
   "source": [
    "URL utilizado em aula: https://www.meilisearch.com/movies.json\n",
    "\n",
    "Este URL é um endpoint de uma API que fornece uma base de dados sobre filmes.\n",
    "O endpoint retorna dados no formato JSON.\n",
    "É um exemplo típico de um API REST que retorna uma coleção de recursos.\n",
    "\n",
    "URL da tarefa: https://apidatalake.tesouro.gov.br/ords/sadipem/tt/pvl\n",
    "\n",
    "Este URL é um endpoint de uma API que fornece dados sobre PVLs (Pedidos de Verificação de Limites) realizados por municípios e estados.\n",
    "O endpoint também retorna dados no formato JSON.\n",
    "\n",
    "Este URL faz parte de um sistema mais complexo que pode envolver múltiplas tabelas e relacionamentos entre dados.\n",
    "Ambos os URLs utilizam o protocolo HTTP e retornam dados no formato JSON, mas servem propósitos diferentes. O primeiro fornece dados sobre filmes, enquanto o segundo fornece dados administrativos sobre solicitações de verificação de limites financeiros por estados e municípios."
   ]
  },
  {
   "cell_type": "code",
   "execution_count": 55,
   "metadata": {},
   "outputs": [
    {
     "name": "stdout",
     "output_type": "stream",
     "text": [
      "Empty DataFrame\n",
      "Columns: [id_pleito, tipo_interessado, interessado, cod_ibge, uf, num_pvl, status, num_processo, data_protocolo, tipo_operacao, finalidade, tipo_credor, credor, moeda, valor, pvl_assoc_divida, pvl_contradado_credor, data_status]\n",
      "Index: []\n"
     ]
    }
   ],
   "source": [
    "#1) Seu código aqui\n",
    "\n",
    "# Importando as bibliotecas\n",
    "import pandas as pd\n",
    "import requests\n",
    "\n",
    "def consultar_pvl(uf, tipo_interessado):\n",
    "    \"\"\"\n",
    "    Consulta a API de PVLs com base no UF e no tipo de interessado.\n",
    "    \n",
    "    Args:\n",
    "    uf (str): Unidade Federativa para a consulta.\n",
    "    tipo_interessado (str): Tipo de interessado ('Estado' ou 'Município').\n",
    "    \n",
    "    Returns:\n",
    "    DataFrame: Dados da consulta no formato DataFrame.\n",
    "    \"\"\"\n",
    "    # URL da API\n",
    "    url = \"https://apidatalake.tesouro.gov.br/ords/sadipem/tt/pvl\"\n",
    "    \n",
    "    # Requisição à API\n",
    "    response = requests.get(url)\n",
    "    \n",
    "    if response.status_code == 200:\n",
    "        data = response.json()\n",
    "        df = pd.DataFrame(data['items'])\n",
    "        \n",
    "        # Filtrar dados com base no UF e tipo de interessado\n",
    "        df_filtered = df[(df['uf'] == uf) & (df['interessado'] == tipo_interessado)]\n",
    "        \n",
    "        return df_filtered\n",
    "    else:\n",
    "        print(f\"Erro ao carregar os dados: {response.status_code}\")\n",
    "        return pd.DataFrame()\n",
    "\n",
    "# Testando a função\n",
    "df_mg_estado = consultar_pvl('MG', 'Estado')\n",
    "print(df_mg_estado.head())\n"
   ]
  },
  {
   "cell_type": "code",
   "execution_count": 73,
   "metadata": {},
   "outputs": [
    {
     "name": "stdout",
     "output_type": "stream",
     "text": [
      "Número de solicitações arquivadas por decurso de prazo em Minas Gerais: 0\n"
     ]
    }
   ],
   "source": [
    "# 2) Seu código aqui\n",
    "# Consultar dados do Estado de Minas Gerais\n",
    "if 'status' in df_mg_estado.columns:\n",
    "    # Filtrar dados com status 'Arquivado por decurso de prazo'\n",
    "    arquivados_mg = df_mg_estado[df_mg_estado['status'] == 'Arquivado por decurso de prazo']\n",
    "\n",
    "    # Contar o número de solicitações arquivadas\n",
    "    num_arquivados_mg = arquivados_mg.shape[0]\n",
    "    print(f\"Número de solicitações arquivadas por decurso de prazo em Minas Gerais: {num_arquivados_mg}\")"
   ]
  },
  {
   "cell_type": "code",
   "execution_count": 101,
   "metadata": {},
   "outputs": [
    {
     "name": "stdout",
     "output_type": "stream",
     "text": [
      "Não há solicitações deferidas na Bahia para municípios.\n"
     ]
    }
   ],
   "source": [
    "# 3) Seu código aqui\n",
    "# Contar as solicitações deferidas da Bahia\n",
    "if not deferidos_ba.empty:\n",
    "    municipio_mais_deferidos = deferidos_ba['interessado'].value_counts().idxmax()\n",
    "    print(f\"Município da Bahia com mais solicitações deferidas: {municipio_mais_deferidos}\")\n",
    "else:\n",
    "    print(\"Não há solicitações deferidas na Bahia para municípios.\")\n"
   ]
  },
  {
   "cell_type": "code",
   "execution_count": 105,
   "metadata": {},
   "outputs": [
    {
     "name": "stdout",
     "output_type": "stream",
     "text": [
      "Dados de solicitações da Bahia com interessado 'Estado' foram salvos em 'solicitacoes_ba_estado.csv'.\n"
     ]
    }
   ],
   "source": [
    "# 4) Seu código aqui\n",
    "# Salvar os dados em um arquivo CSV\n",
    "df_ba_estado.to_csv('solicitacoes_ba_estado.csv', index=False)\n",
    "print(\"Dados de solicitações da Bahia com interessado 'Estado' foram salvos em 'solicitacoes_ba_estado.csv'.\")"
   ]
  }
 ],
 "metadata": {
  "kernelspec": {
   "display_name": "Python 3 (ipykernel)",
   "language": "python",
   "name": "python3"
  },
  "language_info": {
   "codemirror_mode": {
    "name": "ipython",
    "version": 3
   },
   "file_extension": ".py",
   "mimetype": "text/x-python",
   "name": "python",
   "nbconvert_exporter": "python",
   "pygments_lexer": "ipython3",
   "version": "3.11.7"
  }
 },
 "nbformat": 4,
 "nbformat_minor": 4
}
